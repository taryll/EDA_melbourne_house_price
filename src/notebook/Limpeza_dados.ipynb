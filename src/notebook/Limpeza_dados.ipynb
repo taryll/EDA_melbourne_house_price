{
 "cells": [
  {
   "cell_type": "markdown",
   "id": "2d992bc9",
   "metadata": {},
   "source": [
    "## Biblioteca"
   ]
  },
  {
   "cell_type": "code",
   "execution_count": 2,
   "id": "b0fdd5db",
   "metadata": {},
   "outputs": [],
   "source": [
    "import pandas as pd\n",
    "import numpy as np\n",
    "from scipy import stats\n",
    "\n",
    "import matplotlib.pyplot as plt\n",
    "import seaborn as sns\n"
   ]
  },
  {
   "cell_type": "markdown",
   "id": "07daec75",
   "metadata": {},
   "source": [
    "## Descrição dos dados"
   ]
  },
  {
   "cell_type": "code",
   "execution_count": 3,
   "id": "2fb59d0a",
   "metadata": {},
   "outputs": [],
   "source": [
    "df = pd.read_csv(\"../../data/raw/Melbourne_housing_FULL.csv\")"
   ]
  },
  {
   "cell_type": "code",
   "execution_count": 4,
   "id": "b3a6733b",
   "metadata": {},
   "outputs": [
    {
     "data": {
      "text/plain": [
       "Index(['Suburb', 'Address', 'Rooms', 'Type', 'Price', 'Method', 'SellerG',\n",
       "       'Date', 'Distance', 'Postcode', 'Bedroom2', 'Bathroom', 'Car',\n",
       "       'Landsize', 'BuildingArea', 'YearBuilt', 'CouncilArea', 'Lattitude',\n",
       "       'Longtitude', 'Regionname', 'Propertycount'],\n",
       "      dtype='object')"
      ]
     },
     "execution_count": 4,
     "metadata": {},
     "output_type": "execute_result"
    }
   ],
   "source": [
    "df.columns"
   ]
  },
  {
   "cell_type": "markdown",
   "id": "d56f0988",
   "metadata": {},
   "source": [
    "- Suburb: Bairro\n",
    "- Address: Endereço\n",
    "- Rooms: Quartos\n",
    "- Type: br - bedroom(s); h - house,cottage,villa, semi,terrace; u - unit, duplex; t - townhouse; dev site - development site; o res - other residential.\n",
    "- Price: Preço em dólares\n",
    "- Method: S - property sold; SP - property sold prior; PI - property passed in; PN - sold prior not disclosed; SN - sold not disclosed; NB - no bid; VB - vendor bid; W - withdrawn prior to auction; SA - sold after auction; SS - sold after auction price not disclosed. N/A - price or highest bid not available.\n",
    "- SellerG: Corretor imobiliário\n",
    "- Date: data vendida\n",
    "- Distance: Distância até o C.B.D de Melbourne\n",
    "- Postcode: CEP\n",
    "- Bedroom2: \n",
    "- Bathroom:\n",
    "- Car: Nº de garagem\n",
    "- Landsize: Área do lote\n",
    "- BuildingArea: Área construída\n",
    "- YearBuilt: Ano em que foi construído\n",
    "- CouncilArea: Conselho Tutelar(?)\n",
    "- Lattitude: Latitude\n",
    "- Longtitude: Longitude\n",
    "- Regionname: Zonas (Leste, Oeste, Norte, Sul, etc.)\n",
    "- Propertycount: Nº de propriedades que existem no bairro"
   ]
  },
  {
   "cell_type": "markdown",
   "id": "28ad87d8",
   "metadata": {},
   "source": [
    "Amostra dos dados"
   ]
  },
  {
   "cell_type": "code",
   "execution_count": 5,
   "id": "de590ff1",
   "metadata": {
    "scrolled": true
   },
   "outputs": [
    {
     "data": {
      "text/html": [
       "<div>\n",
       "<style scoped>\n",
       "    .dataframe tbody tr th:only-of-type {\n",
       "        vertical-align: middle;\n",
       "    }\n",
       "\n",
       "    .dataframe tbody tr th {\n",
       "        vertical-align: top;\n",
       "    }\n",
       "\n",
       "    .dataframe thead th {\n",
       "        text-align: right;\n",
       "    }\n",
       "</style>\n",
       "<table border=\"1\" class=\"dataframe\">\n",
       "  <thead>\n",
       "    <tr style=\"text-align: right;\">\n",
       "      <th></th>\n",
       "      <th>Suburb</th>\n",
       "      <th>Address</th>\n",
       "      <th>Rooms</th>\n",
       "      <th>Type</th>\n",
       "      <th>Price</th>\n",
       "      <th>Method</th>\n",
       "      <th>SellerG</th>\n",
       "      <th>Date</th>\n",
       "      <th>Distance</th>\n",
       "      <th>Postcode</th>\n",
       "      <th>...</th>\n",
       "      <th>Bathroom</th>\n",
       "      <th>Car</th>\n",
       "      <th>Landsize</th>\n",
       "      <th>BuildingArea</th>\n",
       "      <th>YearBuilt</th>\n",
       "      <th>CouncilArea</th>\n",
       "      <th>Lattitude</th>\n",
       "      <th>Longtitude</th>\n",
       "      <th>Regionname</th>\n",
       "      <th>Propertycount</th>\n",
       "    </tr>\n",
       "  </thead>\n",
       "  <tbody>\n",
       "    <tr>\n",
       "      <th>20636</th>\n",
       "      <td>Kew East</td>\n",
       "      <td>11 Coleman Av</td>\n",
       "      <td>4</td>\n",
       "      <td>h</td>\n",
       "      <td>2000000.0</td>\n",
       "      <td>VB</td>\n",
       "      <td>Marshall</td>\n",
       "      <td>9/09/2017</td>\n",
       "      <td>7.3</td>\n",
       "      <td>3102.0</td>\n",
       "      <td>...</td>\n",
       "      <td>1.0</td>\n",
       "      <td>1.0</td>\n",
       "      <td>704.0</td>\n",
       "      <td>NaN</td>\n",
       "      <td>NaN</td>\n",
       "      <td>Boroondara City Council</td>\n",
       "      <td>-37.79349</td>\n",
       "      <td>145.04611</td>\n",
       "      <td>Southern Metropolitan</td>\n",
       "      <td>2671.0</td>\n",
       "    </tr>\n",
       "    <tr>\n",
       "      <th>9417</th>\n",
       "      <td>Southbank</td>\n",
       "      <td>909/118 Kavanagh St</td>\n",
       "      <td>2</td>\n",
       "      <td>u</td>\n",
       "      <td>430000.0</td>\n",
       "      <td>PI</td>\n",
       "      <td>Dingle</td>\n",
       "      <td>12/11/2016</td>\n",
       "      <td>1.2</td>\n",
       "      <td>3006.0</td>\n",
       "      <td>...</td>\n",
       "      <td>2.0</td>\n",
       "      <td>0.0</td>\n",
       "      <td>2295.0</td>\n",
       "      <td>NaN</td>\n",
       "      <td>2014.0</td>\n",
       "      <td>Melbourne City Council</td>\n",
       "      <td>-37.82560</td>\n",
       "      <td>144.96220</td>\n",
       "      <td>Southern Metropolitan</td>\n",
       "      <td>8400.0</td>\n",
       "    </tr>\n",
       "    <tr>\n",
       "      <th>27909</th>\n",
       "      <td>Kew</td>\n",
       "      <td>3/13 Kent St</td>\n",
       "      <td>2</td>\n",
       "      <td>t</td>\n",
       "      <td>820000.0</td>\n",
       "      <td>VB</td>\n",
       "      <td>Nelson</td>\n",
       "      <td>18/11/2017</td>\n",
       "      <td>5.4</td>\n",
       "      <td>3101.0</td>\n",
       "      <td>...</td>\n",
       "      <td>NaN</td>\n",
       "      <td>NaN</td>\n",
       "      <td>NaN</td>\n",
       "      <td>NaN</td>\n",
       "      <td>NaN</td>\n",
       "      <td>Boroondara City Council</td>\n",
       "      <td>NaN</td>\n",
       "      <td>NaN</td>\n",
       "      <td>Southern Metropolitan</td>\n",
       "      <td>10331.0</td>\n",
       "    </tr>\n",
       "    <tr>\n",
       "      <th>771</th>\n",
       "      <td>Avondale Heights</td>\n",
       "      <td>40 Templewood Cr</td>\n",
       "      <td>4</td>\n",
       "      <td>h</td>\n",
       "      <td>1200000.0</td>\n",
       "      <td>S</td>\n",
       "      <td>Nelson</td>\n",
       "      <td>10/12/2016</td>\n",
       "      <td>10.5</td>\n",
       "      <td>3034.0</td>\n",
       "      <td>...</td>\n",
       "      <td>NaN</td>\n",
       "      <td>NaN</td>\n",
       "      <td>NaN</td>\n",
       "      <td>NaN</td>\n",
       "      <td>NaN</td>\n",
       "      <td>Moonee Valley City Council</td>\n",
       "      <td>NaN</td>\n",
       "      <td>NaN</td>\n",
       "      <td>Western Metropolitan</td>\n",
       "      <td>4502.0</td>\n",
       "    </tr>\n",
       "    <tr>\n",
       "      <th>15550</th>\n",
       "      <td>Coburg</td>\n",
       "      <td>82 Ross St</td>\n",
       "      <td>3</td>\n",
       "      <td>t</td>\n",
       "      <td>NaN</td>\n",
       "      <td>SN</td>\n",
       "      <td>Barry</td>\n",
       "      <td>17/06/2017</td>\n",
       "      <td>6.7</td>\n",
       "      <td>3058.0</td>\n",
       "      <td>...</td>\n",
       "      <td>NaN</td>\n",
       "      <td>NaN</td>\n",
       "      <td>NaN</td>\n",
       "      <td>NaN</td>\n",
       "      <td>NaN</td>\n",
       "      <td>Darebin City Council</td>\n",
       "      <td>NaN</td>\n",
       "      <td>NaN</td>\n",
       "      <td>Northern Metropolitan</td>\n",
       "      <td>11204.0</td>\n",
       "    </tr>\n",
       "  </tbody>\n",
       "</table>\n",
       "<p>5 rows × 21 columns</p>\n",
       "</div>"
      ],
      "text/plain": [
       "                 Suburb              Address  Rooms Type      Price Method  \\\n",
       "20636          Kew East        11 Coleman Av      4    h  2000000.0     VB   \n",
       "9417          Southbank  909/118 Kavanagh St      2    u   430000.0     PI   \n",
       "27909               Kew         3/13 Kent St      2    t   820000.0     VB   \n",
       "771    Avondale Heights     40 Templewood Cr      4    h  1200000.0      S   \n",
       "15550            Coburg           82 Ross St      3    t        NaN     SN   \n",
       "\n",
       "        SellerG        Date  Distance  Postcode  ...  Bathroom  Car  Landsize  \\\n",
       "20636  Marshall   9/09/2017       7.3    3102.0  ...       1.0  1.0     704.0   \n",
       "9417     Dingle  12/11/2016       1.2    3006.0  ...       2.0  0.0    2295.0   \n",
       "27909    Nelson  18/11/2017       5.4    3101.0  ...       NaN  NaN       NaN   \n",
       "771      Nelson  10/12/2016      10.5    3034.0  ...       NaN  NaN       NaN   \n",
       "15550     Barry  17/06/2017       6.7    3058.0  ...       NaN  NaN       NaN   \n",
       "\n",
       "       BuildingArea  YearBuilt                 CouncilArea Lattitude  \\\n",
       "20636           NaN        NaN     Boroondara City Council -37.79349   \n",
       "9417            NaN     2014.0      Melbourne City Council -37.82560   \n",
       "27909           NaN        NaN     Boroondara City Council       NaN   \n",
       "771             NaN        NaN  Moonee Valley City Council       NaN   \n",
       "15550           NaN        NaN        Darebin City Council       NaN   \n",
       "\n",
       "       Longtitude             Regionname Propertycount  \n",
       "20636   145.04611  Southern Metropolitan        2671.0  \n",
       "9417    144.96220  Southern Metropolitan        8400.0  \n",
       "27909         NaN  Southern Metropolitan       10331.0  \n",
       "771           NaN   Western Metropolitan        4502.0  \n",
       "15550         NaN  Northern Metropolitan       11204.0  \n",
       "\n",
       "[5 rows x 21 columns]"
      ]
     },
     "execution_count": 5,
     "metadata": {},
     "output_type": "execute_result"
    }
   ],
   "source": [
    "df.sample(5)"
   ]
  },
  {
   "cell_type": "markdown",
   "id": "ff81befe",
   "metadata": {},
   "source": [
    "Algumas informações como completude e tipo de coluna"
   ]
  },
  {
   "cell_type": "code",
   "execution_count": 6,
   "id": "61f5b6f6",
   "metadata": {
    "scrolled": false
   },
   "outputs": [
    {
     "name": "stdout",
     "output_type": "stream",
     "text": [
      "<class 'pandas.core.frame.DataFrame'>\n",
      "RangeIndex: 34857 entries, 0 to 34856\n",
      "Data columns (total 21 columns):\n",
      " #   Column         Non-Null Count  Dtype  \n",
      "---  ------         --------------  -----  \n",
      " 0   Suburb         34857 non-null  object \n",
      " 1   Address        34857 non-null  object \n",
      " 2   Rooms          34857 non-null  int64  \n",
      " 3   Type           34857 non-null  object \n",
      " 4   Price          27247 non-null  float64\n",
      " 5   Method         34857 non-null  object \n",
      " 6   SellerG        34857 non-null  object \n",
      " 7   Date           34857 non-null  object \n",
      " 8   Distance       34856 non-null  float64\n",
      " 9   Postcode       34856 non-null  float64\n",
      " 10  Bedroom2       26640 non-null  float64\n",
      " 11  Bathroom       26631 non-null  float64\n",
      " 12  Car            26129 non-null  float64\n",
      " 13  Landsize       23047 non-null  float64\n",
      " 14  BuildingArea   13742 non-null  float64\n",
      " 15  YearBuilt      15551 non-null  float64\n",
      " 16  CouncilArea    34854 non-null  object \n",
      " 17  Lattitude      26881 non-null  float64\n",
      " 18  Longtitude     26881 non-null  float64\n",
      " 19  Regionname     34854 non-null  object \n",
      " 20  Propertycount  34854 non-null  float64\n",
      "dtypes: float64(12), int64(1), object(8)\n",
      "memory usage: 5.6+ MB\n"
     ]
    }
   ],
   "source": [
    "df.info()"
   ]
  },
  {
   "cell_type": "markdown",
   "id": "863cddcb",
   "metadata": {},
   "source": [
    "Estatísticas básicas de variáveis numéricas. Como podemos observar, há propriedade com Bedroom2, Bathroom, Landsize e BuildingArea iguais a zero, o que não faz sentido, logo serão excluídas."
   ]
  },
  {
   "cell_type": "code",
   "execution_count": 7,
   "id": "cc28ca67",
   "metadata": {},
   "outputs": [
    {
     "data": {
      "text/html": [
       "<div>\n",
       "<style scoped>\n",
       "    .dataframe tbody tr th:only-of-type {\n",
       "        vertical-align: middle;\n",
       "    }\n",
       "\n",
       "    .dataframe tbody tr th {\n",
       "        vertical-align: top;\n",
       "    }\n",
       "\n",
       "    .dataframe thead th {\n",
       "        text-align: right;\n",
       "    }\n",
       "</style>\n",
       "<table border=\"1\" class=\"dataframe\">\n",
       "  <thead>\n",
       "    <tr style=\"text-align: right;\">\n",
       "      <th></th>\n",
       "      <th>Rooms</th>\n",
       "      <th>Price</th>\n",
       "      <th>Distance</th>\n",
       "      <th>Postcode</th>\n",
       "      <th>Bedroom2</th>\n",
       "      <th>Bathroom</th>\n",
       "      <th>Car</th>\n",
       "      <th>Landsize</th>\n",
       "      <th>BuildingArea</th>\n",
       "      <th>YearBuilt</th>\n",
       "      <th>Lattitude</th>\n",
       "      <th>Longtitude</th>\n",
       "      <th>Propertycount</th>\n",
       "    </tr>\n",
       "  </thead>\n",
       "  <tbody>\n",
       "    <tr>\n",
       "      <th>count</th>\n",
       "      <td>34857.000000</td>\n",
       "      <td>2.724700e+04</td>\n",
       "      <td>34856.000000</td>\n",
       "      <td>34856.000000</td>\n",
       "      <td>26640.000000</td>\n",
       "      <td>26631.000000</td>\n",
       "      <td>26129.000000</td>\n",
       "      <td>23047.000000</td>\n",
       "      <td>13742.00000</td>\n",
       "      <td>15551.000000</td>\n",
       "      <td>26881.000000</td>\n",
       "      <td>26881.000000</td>\n",
       "      <td>34854.000000</td>\n",
       "    </tr>\n",
       "    <tr>\n",
       "      <th>mean</th>\n",
       "      <td>3.031012</td>\n",
       "      <td>1.050173e+06</td>\n",
       "      <td>11.184929</td>\n",
       "      <td>3116.062859</td>\n",
       "      <td>3.084647</td>\n",
       "      <td>1.624798</td>\n",
       "      <td>1.728845</td>\n",
       "      <td>593.598993</td>\n",
       "      <td>160.25640</td>\n",
       "      <td>1965.289885</td>\n",
       "      <td>-37.810634</td>\n",
       "      <td>145.001851</td>\n",
       "      <td>7572.888306</td>\n",
       "    </tr>\n",
       "    <tr>\n",
       "      <th>std</th>\n",
       "      <td>0.969933</td>\n",
       "      <td>6.414671e+05</td>\n",
       "      <td>6.788892</td>\n",
       "      <td>109.023903</td>\n",
       "      <td>0.980690</td>\n",
       "      <td>0.724212</td>\n",
       "      <td>1.010771</td>\n",
       "      <td>3398.841946</td>\n",
       "      <td>401.26706</td>\n",
       "      <td>37.328178</td>\n",
       "      <td>0.090279</td>\n",
       "      <td>0.120169</td>\n",
       "      <td>4428.090313</td>\n",
       "    </tr>\n",
       "    <tr>\n",
       "      <th>min</th>\n",
       "      <td>1.000000</td>\n",
       "      <td>8.500000e+04</td>\n",
       "      <td>0.000000</td>\n",
       "      <td>3000.000000</td>\n",
       "      <td>0.000000</td>\n",
       "      <td>0.000000</td>\n",
       "      <td>0.000000</td>\n",
       "      <td>0.000000</td>\n",
       "      <td>0.00000</td>\n",
       "      <td>1196.000000</td>\n",
       "      <td>-38.190430</td>\n",
       "      <td>144.423790</td>\n",
       "      <td>83.000000</td>\n",
       "    </tr>\n",
       "    <tr>\n",
       "      <th>25%</th>\n",
       "      <td>2.000000</td>\n",
       "      <td>6.350000e+05</td>\n",
       "      <td>6.400000</td>\n",
       "      <td>3051.000000</td>\n",
       "      <td>2.000000</td>\n",
       "      <td>1.000000</td>\n",
       "      <td>1.000000</td>\n",
       "      <td>224.000000</td>\n",
       "      <td>102.00000</td>\n",
       "      <td>1940.000000</td>\n",
       "      <td>-37.862950</td>\n",
       "      <td>144.933500</td>\n",
       "      <td>4385.000000</td>\n",
       "    </tr>\n",
       "    <tr>\n",
       "      <th>50%</th>\n",
       "      <td>3.000000</td>\n",
       "      <td>8.700000e+05</td>\n",
       "      <td>10.300000</td>\n",
       "      <td>3103.000000</td>\n",
       "      <td>3.000000</td>\n",
       "      <td>2.000000</td>\n",
       "      <td>2.000000</td>\n",
       "      <td>521.000000</td>\n",
       "      <td>136.00000</td>\n",
       "      <td>1970.000000</td>\n",
       "      <td>-37.807600</td>\n",
       "      <td>145.007800</td>\n",
       "      <td>6763.000000</td>\n",
       "    </tr>\n",
       "    <tr>\n",
       "      <th>75%</th>\n",
       "      <td>4.000000</td>\n",
       "      <td>1.295000e+06</td>\n",
       "      <td>14.000000</td>\n",
       "      <td>3156.000000</td>\n",
       "      <td>4.000000</td>\n",
       "      <td>2.000000</td>\n",
       "      <td>2.000000</td>\n",
       "      <td>670.000000</td>\n",
       "      <td>188.00000</td>\n",
       "      <td>2000.000000</td>\n",
       "      <td>-37.754100</td>\n",
       "      <td>145.071900</td>\n",
       "      <td>10412.000000</td>\n",
       "    </tr>\n",
       "    <tr>\n",
       "      <th>max</th>\n",
       "      <td>16.000000</td>\n",
       "      <td>1.120000e+07</td>\n",
       "      <td>48.100000</td>\n",
       "      <td>3978.000000</td>\n",
       "      <td>30.000000</td>\n",
       "      <td>12.000000</td>\n",
       "      <td>26.000000</td>\n",
       "      <td>433014.000000</td>\n",
       "      <td>44515.00000</td>\n",
       "      <td>2106.000000</td>\n",
       "      <td>-37.390200</td>\n",
       "      <td>145.526350</td>\n",
       "      <td>21650.000000</td>\n",
       "    </tr>\n",
       "  </tbody>\n",
       "</table>\n",
       "</div>"
      ],
      "text/plain": [
       "              Rooms         Price      Distance      Postcode      Bedroom2  \\\n",
       "count  34857.000000  2.724700e+04  34856.000000  34856.000000  26640.000000   \n",
       "mean       3.031012  1.050173e+06     11.184929   3116.062859      3.084647   \n",
       "std        0.969933  6.414671e+05      6.788892    109.023903      0.980690   \n",
       "min        1.000000  8.500000e+04      0.000000   3000.000000      0.000000   \n",
       "25%        2.000000  6.350000e+05      6.400000   3051.000000      2.000000   \n",
       "50%        3.000000  8.700000e+05     10.300000   3103.000000      3.000000   \n",
       "75%        4.000000  1.295000e+06     14.000000   3156.000000      4.000000   \n",
       "max       16.000000  1.120000e+07     48.100000   3978.000000     30.000000   \n",
       "\n",
       "           Bathroom           Car       Landsize  BuildingArea     YearBuilt  \\\n",
       "count  26631.000000  26129.000000   23047.000000   13742.00000  15551.000000   \n",
       "mean       1.624798      1.728845     593.598993     160.25640   1965.289885   \n",
       "std        0.724212      1.010771    3398.841946     401.26706     37.328178   \n",
       "min        0.000000      0.000000       0.000000       0.00000   1196.000000   \n",
       "25%        1.000000      1.000000     224.000000     102.00000   1940.000000   \n",
       "50%        2.000000      2.000000     521.000000     136.00000   1970.000000   \n",
       "75%        2.000000      2.000000     670.000000     188.00000   2000.000000   \n",
       "max       12.000000     26.000000  433014.000000   44515.00000   2106.000000   \n",
       "\n",
       "          Lattitude    Longtitude  Propertycount  \n",
       "count  26881.000000  26881.000000   34854.000000  \n",
       "mean     -37.810634    145.001851    7572.888306  \n",
       "std        0.090279      0.120169    4428.090313  \n",
       "min      -38.190430    144.423790      83.000000  \n",
       "25%      -37.862950    144.933500    4385.000000  \n",
       "50%      -37.807600    145.007800    6763.000000  \n",
       "75%      -37.754100    145.071900   10412.000000  \n",
       "max      -37.390200    145.526350   21650.000000  "
      ]
     },
     "execution_count": 7,
     "metadata": {},
     "output_type": "execute_result"
    }
   ],
   "source": [
    "df.describe()"
   ]
  },
  {
   "cell_type": "markdown",
   "id": "5dd9d5ee",
   "metadata": {},
   "source": [
    "Completude dos dados (dados faltantes)"
   ]
  },
  {
   "cell_type": "code",
   "execution_count": 8,
   "id": "82c06189",
   "metadata": {
    "scrolled": false
   },
   "outputs": [
    {
     "data": {
      "text/plain": [
       "Suburb               0\n",
       "Address              0\n",
       "Rooms                0\n",
       "Type                 0\n",
       "Price             7610\n",
       "Method               0\n",
       "SellerG              0\n",
       "Date                 0\n",
       "Distance             1\n",
       "Postcode             1\n",
       "Bedroom2          8217\n",
       "Bathroom          8226\n",
       "Car               8728\n",
       "Landsize         11810\n",
       "BuildingArea     21115\n",
       "YearBuilt        19306\n",
       "CouncilArea          3\n",
       "Lattitude         7976\n",
       "Longtitude        7976\n",
       "Regionname           3\n",
       "Propertycount        3\n",
       "dtype: int64"
      ]
     },
     "execution_count": 8,
     "metadata": {},
     "output_type": "execute_result"
    }
   ],
   "source": [
    "df.isnull().sum()"
   ]
  },
  {
   "cell_type": "markdown",
   "id": "8a079d5b",
   "metadata": {},
   "source": []
  },
  {
   "cell_type": "markdown",
   "id": "f84023f3",
   "metadata": {},
   "source": [
    "## Preprocessamento"
   ]
  },
  {
   "cell_type": "markdown",
   "id": "2cdfdb66",
   "metadata": {},
   "source": [
    "### Lidando com valores inconsistentes"
   ]
  },
  {
   "cell_type": "code",
   "execution_count": 18,
   "id": "86b89b7c",
   "metadata": {},
   "outputs": [
    {
     "data": {
      "text/plain": [
       "0        False\n",
       "1        False\n",
       "2        False\n",
       "3         True\n",
       "4        False\n",
       "         ...  \n",
       "34852    False\n",
       "34853    False\n",
       "34854    False\n",
       "34855    False\n",
       "34856    False\n",
       "Length: 34857, dtype: bool"
      ]
     },
     "execution_count": 18,
     "metadata": {},
     "output_type": "execute_result"
    }
   ],
   "source": [
    "(df[['Bedroom2', 'Bathroom', 'Landsize', 'BuildingArea']] == 0).any(axis = 1)"
   ]
  },
  {
   "cell_type": "code",
   "execution_count": null,
   "id": "8fb71212",
   "metadata": {},
   "outputs": [],
   "source": []
  },
  {
   "cell_type": "markdown",
   "id": "585d5e6c",
   "metadata": {},
   "source": [
    "### Lidando com dados faltantes"
   ]
  },
  {
   "cell_type": "markdown",
   "id": "798f0e0a",
   "metadata": {},
   "source": [
    "Vamos listar as colunas onde há pelo menos 1 missing value"
   ]
  },
  {
   "cell_type": "code",
   "execution_count": 8,
   "id": "4fdd8f50",
   "metadata": {},
   "outputs": [
    {
     "data": {
      "text/plain": [
       "Index(['Price', 'Distance', 'Postcode', 'Bedroom2', 'Bathroom', 'Car',\n",
       "       'Landsize', 'BuildingArea', 'YearBuilt', 'CouncilArea', 'Lattitude',\n",
       "       'Longtitude', 'Regionname', 'Propertycount'],\n",
       "      dtype='object')"
      ]
     },
     "execution_count": 8,
     "metadata": {},
     "output_type": "execute_result"
    }
   ],
   "source": [
    "df.columns[df.isnull().any()]"
   ]
  },
  {
   "cell_type": "markdown",
   "id": "b5193d09",
   "metadata": {},
   "source": [
    "No caso dos preços, vamos simplesmente tirar as observações.\n",
    "\n",
    "Filtrando as observações com os preços faltantes."
   ]
  },
  {
   "cell_type": "code",
   "execution_count": 9,
   "id": "70e8f30b",
   "metadata": {},
   "outputs": [],
   "source": [
    "df_clean = df[~df['Price'].isnull()]"
   ]
  },
  {
   "cell_type": "markdown",
   "id": "e16b4a87",
   "metadata": {},
   "source": [
    "Vamos investigar as outras observações faltantes:"
   ]
  },
  {
   "cell_type": "code",
   "execution_count": 10,
   "id": "7d65ec74",
   "metadata": {
    "scrolled": true
   },
   "outputs": [
    {
     "data": {
      "text/html": [
       "<div>\n",
       "<style scoped>\n",
       "    .dataframe tbody tr th:only-of-type {\n",
       "        vertical-align: middle;\n",
       "    }\n",
       "\n",
       "    .dataframe tbody tr th {\n",
       "        vertical-align: top;\n",
       "    }\n",
       "\n",
       "    .dataframe thead th {\n",
       "        text-align: right;\n",
       "    }\n",
       "</style>\n",
       "<table border=\"1\" class=\"dataframe\">\n",
       "  <thead>\n",
       "    <tr style=\"text-align: right;\">\n",
       "      <th></th>\n",
       "      <th>Suburb</th>\n",
       "      <th>Address</th>\n",
       "      <th>Rooms</th>\n",
       "      <th>Type</th>\n",
       "      <th>Price</th>\n",
       "      <th>Method</th>\n",
       "      <th>SellerG</th>\n",
       "      <th>Date</th>\n",
       "      <th>Distance</th>\n",
       "      <th>Postcode</th>\n",
       "      <th>...</th>\n",
       "      <th>Bathroom</th>\n",
       "      <th>Car</th>\n",
       "      <th>Landsize</th>\n",
       "      <th>BuildingArea</th>\n",
       "      <th>YearBuilt</th>\n",
       "      <th>CouncilArea</th>\n",
       "      <th>Lattitude</th>\n",
       "      <th>Longtitude</th>\n",
       "      <th>Regionname</th>\n",
       "      <th>Propertycount</th>\n",
       "    </tr>\n",
       "  </thead>\n",
       "  <tbody>\n",
       "    <tr>\n",
       "      <th>29483</th>\n",
       "      <td>Fawkner Lot</td>\n",
       "      <td>1/3 Brian St</td>\n",
       "      <td>3</td>\n",
       "      <td>h</td>\n",
       "      <td>616000.0</td>\n",
       "      <td>SP</td>\n",
       "      <td>Brad</td>\n",
       "      <td>6/01/2018</td>\n",
       "      <td>NaN</td>\n",
       "      <td>NaN</td>\n",
       "      <td>...</td>\n",
       "      <td>NaN</td>\n",
       "      <td>NaN</td>\n",
       "      <td>NaN</td>\n",
       "      <td>NaN</td>\n",
       "      <td>NaN</td>\n",
       "      <td>NaN</td>\n",
       "      <td>NaN</td>\n",
       "      <td>NaN</td>\n",
       "      <td>NaN</td>\n",
       "      <td>NaN</td>\n",
       "    </tr>\n",
       "  </tbody>\n",
       "</table>\n",
       "<p>1 rows × 21 columns</p>\n",
       "</div>"
      ],
      "text/plain": [
       "            Suburb       Address  Rooms Type     Price Method SellerG  \\\n",
       "29483  Fawkner Lot  1/3 Brian St      3    h  616000.0     SP    Brad   \n",
       "\n",
       "            Date  Distance  Postcode  ...  Bathroom  Car  Landsize  \\\n",
       "29483  6/01/2018       NaN       NaN  ...       NaN  NaN       NaN   \n",
       "\n",
       "       BuildingArea  YearBuilt  CouncilArea Lattitude  Longtitude  Regionname  \\\n",
       "29483           NaN        NaN          NaN       NaN         NaN         NaN   \n",
       "\n",
       "      Propertycount  \n",
       "29483           NaN  \n",
       "\n",
       "[1 rows x 21 columns]"
      ]
     },
     "execution_count": 10,
     "metadata": {},
     "output_type": "execute_result"
    }
   ],
   "source": [
    "df_clean[df_clean['Distance'].isnull()]"
   ]
  },
  {
   "cell_type": "markdown",
   "id": "91b87167",
   "metadata": {},
   "source": [
    "A variável 'Distance' é dada pela distância em km entre o lugar onde se encontra a casa/apt até o CBD (central business district) de Melbourne"
   ]
  },
  {
   "cell_type": "code",
   "execution_count": 11,
   "id": "bd9bf046",
   "metadata": {
    "scrolled": false
   },
   "outputs": [
    {
     "data": {
      "text/html": [
       "<div>\n",
       "<style scoped>\n",
       "    .dataframe tbody tr th:only-of-type {\n",
       "        vertical-align: middle;\n",
       "    }\n",
       "\n",
       "    .dataframe tbody tr th {\n",
       "        vertical-align: top;\n",
       "    }\n",
       "\n",
       "    .dataframe thead th {\n",
       "        text-align: right;\n",
       "    }\n",
       "</style>\n",
       "<table border=\"1\" class=\"dataframe\">\n",
       "  <thead>\n",
       "    <tr style=\"text-align: right;\">\n",
       "      <th></th>\n",
       "      <th></th>\n",
       "      <th>Distance</th>\n",
       "    </tr>\n",
       "    <tr>\n",
       "      <th>Suburb</th>\n",
       "      <th>Distance</th>\n",
       "      <th></th>\n",
       "    </tr>\n",
       "  </thead>\n",
       "  <tbody>\n",
       "    <tr>\n",
       "      <th rowspan=\"2\" valign=\"top\">Abbotsford</th>\n",
       "      <th>2.5</th>\n",
       "      <td>61</td>\n",
       "    </tr>\n",
       "    <tr>\n",
       "      <th>3.0</th>\n",
       "      <td>41</td>\n",
       "    </tr>\n",
       "    <tr>\n",
       "      <th rowspan=\"2\" valign=\"top\">Aberfeldie</th>\n",
       "      <th>7.5</th>\n",
       "      <td>35</td>\n",
       "    </tr>\n",
       "    <tr>\n",
       "      <th>9.1</th>\n",
       "      <td>35</td>\n",
       "    </tr>\n",
       "    <tr>\n",
       "      <th>Airport West</th>\n",
       "      <th>10.4</th>\n",
       "      <td>78</td>\n",
       "    </tr>\n",
       "    <tr>\n",
       "      <th>...</th>\n",
       "      <th>...</th>\n",
       "      <td>...</td>\n",
       "    </tr>\n",
       "    <tr>\n",
       "      <th>Yarra Glen</th>\n",
       "      <th>31.4</th>\n",
       "      <td>1</td>\n",
       "    </tr>\n",
       "    <tr>\n",
       "      <th rowspan=\"2\" valign=\"top\">Yarraville</th>\n",
       "      <th>6.3</th>\n",
       "      <td>111</td>\n",
       "    </tr>\n",
       "    <tr>\n",
       "      <th>7.0</th>\n",
       "      <td>139</td>\n",
       "    </tr>\n",
       "    <tr>\n",
       "      <th>croydon</th>\n",
       "      <th>23.0</th>\n",
       "      <td>1</td>\n",
       "    </tr>\n",
       "    <tr>\n",
       "      <th>viewbank</th>\n",
       "      <th>8.9</th>\n",
       "      <td>1</td>\n",
       "    </tr>\n",
       "  </tbody>\n",
       "</table>\n",
       "<p>484 rows × 1 columns</p>\n",
       "</div>"
      ],
      "text/plain": [
       "                       Distance\n",
       "Suburb       Distance          \n",
       "Abbotsford   2.5             61\n",
       "             3.0             41\n",
       "Aberfeldie   7.5             35\n",
       "             9.1             35\n",
       "Airport West 10.4            78\n",
       "...                         ...\n",
       "Yarra Glen   31.4             1\n",
       "Yarraville   6.3            111\n",
       "             7.0            139\n",
       "croydon      23.0             1\n",
       "viewbank     8.9              1\n",
       "\n",
       "[484 rows x 1 columns]"
      ]
     },
     "execution_count": 11,
     "metadata": {},
     "output_type": "execute_result"
    }
   ],
   "source": [
    "df_clean.groupby(['Suburb', 'Distance']).agg({'Distance': 'count'})"
   ]
  },
  {
   "cell_type": "markdown",
   "id": "d400a9bf",
   "metadata": {},
   "source": [
    "Distância até C.B.D. de Melbourne não deve ser tão diferente para cada bairro. Logo vou preencher com a média da distância data pelo bairro."
   ]
  },
  {
   "cell_type": "code",
   "execution_count": 12,
   "id": "5e47c60b",
   "metadata": {},
   "outputs": [
    {
     "data": {
      "text/html": [
       "<div>\n",
       "<style scoped>\n",
       "    .dataframe tbody tr th:only-of-type {\n",
       "        vertical-align: middle;\n",
       "    }\n",
       "\n",
       "    .dataframe tbody tr th {\n",
       "        vertical-align: top;\n",
       "    }\n",
       "\n",
       "    .dataframe thead th {\n",
       "        text-align: right;\n",
       "    }\n",
       "</style>\n",
       "<table border=\"1\" class=\"dataframe\">\n",
       "  <thead>\n",
       "    <tr style=\"text-align: right;\">\n",
       "      <th></th>\n",
       "      <th>Suburb</th>\n",
       "      <th>Address</th>\n",
       "      <th>Rooms</th>\n",
       "      <th>Type</th>\n",
       "      <th>Price</th>\n",
       "      <th>Method</th>\n",
       "      <th>SellerG</th>\n",
       "      <th>Date</th>\n",
       "      <th>Distance</th>\n",
       "      <th>Postcode</th>\n",
       "      <th>...</th>\n",
       "      <th>Bathroom</th>\n",
       "      <th>Car</th>\n",
       "      <th>Landsize</th>\n",
       "      <th>BuildingArea</th>\n",
       "      <th>YearBuilt</th>\n",
       "      <th>CouncilArea</th>\n",
       "      <th>Lattitude</th>\n",
       "      <th>Longtitude</th>\n",
       "      <th>Regionname</th>\n",
       "      <th>Propertycount</th>\n",
       "    </tr>\n",
       "  </thead>\n",
       "  <tbody>\n",
       "    <tr>\n",
       "      <th>29483</th>\n",
       "      <td>Fawkner Lot</td>\n",
       "      <td>1/3 Brian St</td>\n",
       "      <td>3</td>\n",
       "      <td>h</td>\n",
       "      <td>616000.0</td>\n",
       "      <td>SP</td>\n",
       "      <td>Brad</td>\n",
       "      <td>6/01/2018</td>\n",
       "      <td>NaN</td>\n",
       "      <td>NaN</td>\n",
       "      <td>...</td>\n",
       "      <td>NaN</td>\n",
       "      <td>NaN</td>\n",
       "      <td>NaN</td>\n",
       "      <td>NaN</td>\n",
       "      <td>NaN</td>\n",
       "      <td>NaN</td>\n",
       "      <td>NaN</td>\n",
       "      <td>NaN</td>\n",
       "      <td>NaN</td>\n",
       "      <td>NaN</td>\n",
       "    </tr>\n",
       "  </tbody>\n",
       "</table>\n",
       "<p>1 rows × 21 columns</p>\n",
       "</div>"
      ],
      "text/plain": [
       "            Suburb       Address  Rooms Type     Price Method SellerG  \\\n",
       "29483  Fawkner Lot  1/3 Brian St      3    h  616000.0     SP    Brad   \n",
       "\n",
       "            Date  Distance  Postcode  ...  Bathroom  Car  Landsize  \\\n",
       "29483  6/01/2018       NaN       NaN  ...       NaN  NaN       NaN   \n",
       "\n",
       "       BuildingArea  YearBuilt  CouncilArea Lattitude  Longtitude  Regionname  \\\n",
       "29483           NaN        NaN          NaN       NaN         NaN         NaN   \n",
       "\n",
       "      Propertycount  \n",
       "29483           NaN  \n",
       "\n",
       "[1 rows x 21 columns]"
      ]
     },
     "execution_count": 12,
     "metadata": {},
     "output_type": "execute_result"
    }
   ],
   "source": [
    "df_clean[df_clean['Suburb'] == 'Fawkner Lot']"
   ]
  },
  {
   "cell_type": "markdown",
   "id": "624f02eb",
   "metadata": {},
   "source": [
    "Como não existe nenhuma outra observação como referência, poderíamos procurar no google. O nome 'Lot' me deixou curioso se não é apenas erro na digitação. Vamos filtrar por apenas 'Fawkner'"
   ]
  },
  {
   "cell_type": "code",
   "execution_count": 13,
   "id": "9adf20ff",
   "metadata": {},
   "outputs": [
    {
     "data": {
      "text/html": [
       "<div>\n",
       "<style scoped>\n",
       "    .dataframe tbody tr th:only-of-type {\n",
       "        vertical-align: middle;\n",
       "    }\n",
       "\n",
       "    .dataframe tbody tr th {\n",
       "        vertical-align: top;\n",
       "    }\n",
       "\n",
       "    .dataframe thead th {\n",
       "        text-align: right;\n",
       "    }\n",
       "</style>\n",
       "<table border=\"1\" class=\"dataframe\">\n",
       "  <thead>\n",
       "    <tr style=\"text-align: right;\">\n",
       "      <th></th>\n",
       "      <th>Suburb</th>\n",
       "      <th>Address</th>\n",
       "      <th>Rooms</th>\n",
       "      <th>Type</th>\n",
       "      <th>Price</th>\n",
       "      <th>Method</th>\n",
       "      <th>SellerG</th>\n",
       "      <th>Date</th>\n",
       "      <th>Distance</th>\n",
       "      <th>Postcode</th>\n",
       "      <th>...</th>\n",
       "      <th>Bathroom</th>\n",
       "      <th>Car</th>\n",
       "      <th>Landsize</th>\n",
       "      <th>BuildingArea</th>\n",
       "      <th>YearBuilt</th>\n",
       "      <th>CouncilArea</th>\n",
       "      <th>Lattitude</th>\n",
       "      <th>Longtitude</th>\n",
       "      <th>Regionname</th>\n",
       "      <th>Propertycount</th>\n",
       "    </tr>\n",
       "  </thead>\n",
       "  <tbody>\n",
       "    <tr>\n",
       "      <th>11225</th>\n",
       "      <td>Fawkner</td>\n",
       "      <td>3 Lovely St</td>\n",
       "      <td>3</td>\n",
       "      <td>h</td>\n",
       "      <td>670000.0</td>\n",
       "      <td>S</td>\n",
       "      <td>YPA</td>\n",
       "      <td>3/12/2016</td>\n",
       "      <td>12.4</td>\n",
       "      <td>3060.0</td>\n",
       "      <td>...</td>\n",
       "      <td>1.0</td>\n",
       "      <td>3.0</td>\n",
       "      <td>587.0</td>\n",
       "      <td>136.0</td>\n",
       "      <td>NaN</td>\n",
       "      <td>Hume City Council</td>\n",
       "      <td>-37.70070</td>\n",
       "      <td>144.96320</td>\n",
       "      <td>Northern Metropolitan</td>\n",
       "      <td>5070.0</td>\n",
       "    </tr>\n",
       "    <tr>\n",
       "      <th>11227</th>\n",
       "      <td>Fawkner</td>\n",
       "      <td>220 McBryde St</td>\n",
       "      <td>3</td>\n",
       "      <td>h</td>\n",
       "      <td>645000.0</td>\n",
       "      <td>SP</td>\n",
       "      <td>YPA</td>\n",
       "      <td>4/02/2016</td>\n",
       "      <td>12.4</td>\n",
       "      <td>3060.0</td>\n",
       "      <td>...</td>\n",
       "      <td>1.0</td>\n",
       "      <td>4.0</td>\n",
       "      <td>661.0</td>\n",
       "      <td>NaN</td>\n",
       "      <td>NaN</td>\n",
       "      <td>Hume City Council</td>\n",
       "      <td>-37.70090</td>\n",
       "      <td>144.97760</td>\n",
       "      <td>Northern Metropolitan</td>\n",
       "      <td>5070.0</td>\n",
       "    </tr>\n",
       "    <tr>\n",
       "      <th>11228</th>\n",
       "      <td>Fawkner</td>\n",
       "      <td>73 Argyle St</td>\n",
       "      <td>3</td>\n",
       "      <td>h</td>\n",
       "      <td>687000.0</td>\n",
       "      <td>S</td>\n",
       "      <td>YPA</td>\n",
       "      <td>4/03/2017</td>\n",
       "      <td>12.4</td>\n",
       "      <td>3060.0</td>\n",
       "      <td>...</td>\n",
       "      <td>1.0</td>\n",
       "      <td>0.0</td>\n",
       "      <td>684.0</td>\n",
       "      <td>NaN</td>\n",
       "      <td>NaN</td>\n",
       "      <td>Hume City Council</td>\n",
       "      <td>-37.71740</td>\n",
       "      <td>144.96640</td>\n",
       "      <td>Northern Metropolitan</td>\n",
       "      <td>5070.0</td>\n",
       "    </tr>\n",
       "    <tr>\n",
       "      <th>11229</th>\n",
       "      <td>Fawkner</td>\n",
       "      <td>1/71 Lynch Rd</td>\n",
       "      <td>2</td>\n",
       "      <td>u</td>\n",
       "      <td>333000.0</td>\n",
       "      <td>SP</td>\n",
       "      <td>hockingstuart</td>\n",
       "      <td>4/03/2017</td>\n",
       "      <td>12.4</td>\n",
       "      <td>3060.0</td>\n",
       "      <td>...</td>\n",
       "      <td>1.0</td>\n",
       "      <td>1.0</td>\n",
       "      <td>97.0</td>\n",
       "      <td>79.0</td>\n",
       "      <td>1970.0</td>\n",
       "      <td>Hume City Council</td>\n",
       "      <td>-37.71180</td>\n",
       "      <td>144.96890</td>\n",
       "      <td>Northern Metropolitan</td>\n",
       "      <td>5070.0</td>\n",
       "    </tr>\n",
       "    <tr>\n",
       "      <th>11230</th>\n",
       "      <td>Fawkner</td>\n",
       "      <td>2A Piper St</td>\n",
       "      <td>3</td>\n",
       "      <td>t</td>\n",
       "      <td>455000.0</td>\n",
       "      <td>S</td>\n",
       "      <td>Brad</td>\n",
       "      <td>4/03/2017</td>\n",
       "      <td>12.4</td>\n",
       "      <td>3060.0</td>\n",
       "      <td>...</td>\n",
       "      <td>2.0</td>\n",
       "      <td>1.0</td>\n",
       "      <td>738.0</td>\n",
       "      <td>138.0</td>\n",
       "      <td>2010.0</td>\n",
       "      <td>Hume City Council</td>\n",
       "      <td>-37.71090</td>\n",
       "      <td>144.96540</td>\n",
       "      <td>Northern Metropolitan</td>\n",
       "      <td>5070.0</td>\n",
       "    </tr>\n",
       "    <tr>\n",
       "      <th>...</th>\n",
       "      <td>...</td>\n",
       "      <td>...</td>\n",
       "      <td>...</td>\n",
       "      <td>...</td>\n",
       "      <td>...</td>\n",
       "      <td>...</td>\n",
       "      <td>...</td>\n",
       "      <td>...</td>\n",
       "      <td>...</td>\n",
       "      <td>...</td>\n",
       "      <td>...</td>\n",
       "      <td>...</td>\n",
       "      <td>...</td>\n",
       "      <td>...</td>\n",
       "      <td>...</td>\n",
       "      <td>...</td>\n",
       "      <td>...</td>\n",
       "      <td>...</td>\n",
       "      <td>...</td>\n",
       "      <td>...</td>\n",
       "      <td>...</td>\n",
       "    </tr>\n",
       "    <tr>\n",
       "      <th>33328</th>\n",
       "      <td>Fawkner</td>\n",
       "      <td>42 Tucker St</td>\n",
       "      <td>4</td>\n",
       "      <td>h</td>\n",
       "      <td>945000.0</td>\n",
       "      <td>S</td>\n",
       "      <td>HAR</td>\n",
       "      <td>17/03/2018</td>\n",
       "      <td>13.1</td>\n",
       "      <td>3060.0</td>\n",
       "      <td>...</td>\n",
       "      <td>2.0</td>\n",
       "      <td>6.0</td>\n",
       "      <td>652.0</td>\n",
       "      <td>166.0</td>\n",
       "      <td>1970.0</td>\n",
       "      <td>Hume City Council</td>\n",
       "      <td>-37.70811</td>\n",
       "      <td>144.96968</td>\n",
       "      <td>Northern Metropolitan</td>\n",
       "      <td>5070.0</td>\n",
       "    </tr>\n",
       "    <tr>\n",
       "      <th>34241</th>\n",
       "      <td>Fawkner</td>\n",
       "      <td>69 Marlborough St</td>\n",
       "      <td>4</td>\n",
       "      <td>h</td>\n",
       "      <td>879500.0</td>\n",
       "      <td>PI</td>\n",
       "      <td>Raine</td>\n",
       "      <td>24/02/2018</td>\n",
       "      <td>13.1</td>\n",
       "      <td>3060.0</td>\n",
       "      <td>...</td>\n",
       "      <td>1.0</td>\n",
       "      <td>2.0</td>\n",
       "      <td>690.0</td>\n",
       "      <td>NaN</td>\n",
       "      <td>1950.0</td>\n",
       "      <td>Hume City Council</td>\n",
       "      <td>-37.71829</td>\n",
       "      <td>144.96605</td>\n",
       "      <td>Northern Metropolitan</td>\n",
       "      <td>5070.0</td>\n",
       "    </tr>\n",
       "    <tr>\n",
       "      <th>34242</th>\n",
       "      <td>Fawkner</td>\n",
       "      <td>25 William St</td>\n",
       "      <td>3</td>\n",
       "      <td>h</td>\n",
       "      <td>728000.0</td>\n",
       "      <td>S</td>\n",
       "      <td>Ray</td>\n",
       "      <td>24/02/2018</td>\n",
       "      <td>13.1</td>\n",
       "      <td>3060.0</td>\n",
       "      <td>...</td>\n",
       "      <td>1.0</td>\n",
       "      <td>4.0</td>\n",
       "      <td>584.0</td>\n",
       "      <td>122.0</td>\n",
       "      <td>1960.0</td>\n",
       "      <td>Hume City Council</td>\n",
       "      <td>-37.70428</td>\n",
       "      <td>144.96717</td>\n",
       "      <td>Northern Metropolitan</td>\n",
       "      <td>5070.0</td>\n",
       "    </tr>\n",
       "    <tr>\n",
       "      <th>34243</th>\n",
       "      <td>Fawkner</td>\n",
       "      <td>33 Wymlet St</td>\n",
       "      <td>3</td>\n",
       "      <td>h</td>\n",
       "      <td>662500.0</td>\n",
       "      <td>PI</td>\n",
       "      <td>McGrath</td>\n",
       "      <td>24/02/2018</td>\n",
       "      <td>13.1</td>\n",
       "      <td>3060.0</td>\n",
       "      <td>...</td>\n",
       "      <td>1.0</td>\n",
       "      <td>2.0</td>\n",
       "      <td>609.0</td>\n",
       "      <td>NaN</td>\n",
       "      <td>NaN</td>\n",
       "      <td>Hume City Council</td>\n",
       "      <td>-37.71179</td>\n",
       "      <td>144.96594</td>\n",
       "      <td>Northern Metropolitan</td>\n",
       "      <td>5070.0</td>\n",
       "    </tr>\n",
       "    <tr>\n",
       "      <th>34244</th>\n",
       "      <td>Fawkner</td>\n",
       "      <td>3 Yuroke St</td>\n",
       "      <td>3</td>\n",
       "      <td>h</td>\n",
       "      <td>686000.0</td>\n",
       "      <td>S</td>\n",
       "      <td>Stockdale</td>\n",
       "      <td>24/02/2018</td>\n",
       "      <td>13.1</td>\n",
       "      <td>3060.0</td>\n",
       "      <td>...</td>\n",
       "      <td>1.0</td>\n",
       "      <td>4.0</td>\n",
       "      <td>639.0</td>\n",
       "      <td>NaN</td>\n",
       "      <td>NaN</td>\n",
       "      <td>Hume City Council</td>\n",
       "      <td>-37.71363</td>\n",
       "      <td>144.96751</td>\n",
       "      <td>Northern Metropolitan</td>\n",
       "      <td>5070.0</td>\n",
       "    </tr>\n",
       "  </tbody>\n",
       "</table>\n",
       "<p>172 rows × 21 columns</p>\n",
       "</div>"
      ],
      "text/plain": [
       "        Suburb            Address  Rooms Type     Price Method        SellerG  \\\n",
       "11225  Fawkner        3 Lovely St      3    h  670000.0      S            YPA   \n",
       "11227  Fawkner     220 McBryde St      3    h  645000.0     SP            YPA   \n",
       "11228  Fawkner       73 Argyle St      3    h  687000.0      S            YPA   \n",
       "11229  Fawkner      1/71 Lynch Rd      2    u  333000.0     SP  hockingstuart   \n",
       "11230  Fawkner        2A Piper St      3    t  455000.0      S           Brad   \n",
       "...        ...                ...    ...  ...       ...    ...            ...   \n",
       "33328  Fawkner       42 Tucker St      4    h  945000.0      S            HAR   \n",
       "34241  Fawkner  69 Marlborough St      4    h  879500.0     PI          Raine   \n",
       "34242  Fawkner      25 William St      3    h  728000.0      S            Ray   \n",
       "34243  Fawkner       33 Wymlet St      3    h  662500.0     PI        McGrath   \n",
       "34244  Fawkner        3 Yuroke St      3    h  686000.0      S      Stockdale   \n",
       "\n",
       "             Date  Distance  Postcode  ...  Bathroom  Car  Landsize  \\\n",
       "11225   3/12/2016      12.4    3060.0  ...       1.0  3.0     587.0   \n",
       "11227   4/02/2016      12.4    3060.0  ...       1.0  4.0     661.0   \n",
       "11228   4/03/2017      12.4    3060.0  ...       1.0  0.0     684.0   \n",
       "11229   4/03/2017      12.4    3060.0  ...       1.0  1.0      97.0   \n",
       "11230   4/03/2017      12.4    3060.0  ...       2.0  1.0     738.0   \n",
       "...           ...       ...       ...  ...       ...  ...       ...   \n",
       "33328  17/03/2018      13.1    3060.0  ...       2.0  6.0     652.0   \n",
       "34241  24/02/2018      13.1    3060.0  ...       1.0  2.0     690.0   \n",
       "34242  24/02/2018      13.1    3060.0  ...       1.0  4.0     584.0   \n",
       "34243  24/02/2018      13.1    3060.0  ...       1.0  2.0     609.0   \n",
       "34244  24/02/2018      13.1    3060.0  ...       1.0  4.0     639.0   \n",
       "\n",
       "       BuildingArea  YearBuilt        CouncilArea Lattitude  Longtitude  \\\n",
       "11225         136.0        NaN  Hume City Council -37.70070   144.96320   \n",
       "11227           NaN        NaN  Hume City Council -37.70090   144.97760   \n",
       "11228           NaN        NaN  Hume City Council -37.71740   144.96640   \n",
       "11229          79.0     1970.0  Hume City Council -37.71180   144.96890   \n",
       "11230         138.0     2010.0  Hume City Council -37.71090   144.96540   \n",
       "...             ...        ...                ...       ...         ...   \n",
       "33328         166.0     1970.0  Hume City Council -37.70811   144.96968   \n",
       "34241           NaN     1950.0  Hume City Council -37.71829   144.96605   \n",
       "34242         122.0     1960.0  Hume City Council -37.70428   144.96717   \n",
       "34243           NaN        NaN  Hume City Council -37.71179   144.96594   \n",
       "34244           NaN        NaN  Hume City Council -37.71363   144.96751   \n",
       "\n",
       "                  Regionname Propertycount  \n",
       "11225  Northern Metropolitan        5070.0  \n",
       "11227  Northern Metropolitan        5070.0  \n",
       "11228  Northern Metropolitan        5070.0  \n",
       "11229  Northern Metropolitan        5070.0  \n",
       "11230  Northern Metropolitan        5070.0  \n",
       "...                      ...           ...  \n",
       "33328  Northern Metropolitan        5070.0  \n",
       "34241  Northern Metropolitan        5070.0  \n",
       "34242  Northern Metropolitan        5070.0  \n",
       "34243  Northern Metropolitan        5070.0  \n",
       "34244  Northern Metropolitan        5070.0  \n",
       "\n",
       "[172 rows x 21 columns]"
      ]
     },
     "execution_count": 13,
     "metadata": {},
     "output_type": "execute_result"
    }
   ],
   "source": [
    "df_clean[df_clean['Suburb'] == 'Fawkner']"
   ]
  },
  {
   "cell_type": "markdown",
   "id": "7fe44ef0",
   "metadata": {},
   "source": [
    "Isso indica que de fato houve erro na digitação. Vamos preencher então utilizando esses valores como referência. Irei utilizar a mediana para preencher, pois como podemos ver, só temos dois valores."
   ]
  },
  {
   "cell_type": "code",
   "execution_count": 14,
   "id": "6298e77e",
   "metadata": {},
   "outputs": [
    {
     "data": {
      "text/plain": [
       "array([12.4, 13.1])"
      ]
     },
     "execution_count": 14,
     "metadata": {},
     "output_type": "execute_result"
    }
   ],
   "source": [
    "df_clean[df_clean['Suburb'] == 'Fawkner']['Distance'].unique()"
   ]
  },
  {
   "cell_type": "code",
   "execution_count": 16,
   "id": "44c5335b",
   "metadata": {},
   "outputs": [
    {
     "data": {
      "text/plain": [
       "12.4"
      ]
     },
     "execution_count": 16,
     "metadata": {},
     "output_type": "execute_result"
    }
   ],
   "source": [
    "median_value"
   ]
  },
  {
   "cell_type": "code",
   "execution_count": 17,
   "id": "e4df68d3",
   "metadata": {
    "scrolled": true
   },
   "outputs": [
    {
     "name": "stderr",
     "output_type": "stream",
     "text": [
      "/home/taryll/anaconda3/lib/python3.9/site-packages/pandas/core/indexing.py:1817: SettingWithCopyWarning: \n",
      "A value is trying to be set on a copy of a slice from a DataFrame.\n",
      "Try using .loc[row_indexer,col_indexer] = value instead\n",
      "\n",
      "See the caveats in the documentation: https://pandas.pydata.org/pandas-docs/stable/user_guide/indexing.html#returning-a-view-versus-a-copy\n",
      "  self._setitem_single_column(loc, value, pi)\n"
     ]
    }
   ],
   "source": [
    "idx = df_clean[df_clean['Suburb'] == 'Fawkner Lot'].index.tolist()\n",
    "median_value = df_clean[df_clean['Suburb'] == 'Fawkner']['Distance'].median()\n",
    "\n",
    "df_clean.loc[idx, ['Distance']] = median_value"
   ]
  },
  {
   "cell_type": "markdown",
   "id": "bdbe2689",
   "metadata": {},
   "source": [
    "A seguir temos o mesmo problema, então basta preencher com o postcode dado."
   ]
  },
  {
   "cell_type": "code",
   "execution_count": 18,
   "id": "4f4f2957",
   "metadata": {},
   "outputs": [
    {
     "data": {
      "text/html": [
       "<div>\n",
       "<style scoped>\n",
       "    .dataframe tbody tr th:only-of-type {\n",
       "        vertical-align: middle;\n",
       "    }\n",
       "\n",
       "    .dataframe tbody tr th {\n",
       "        vertical-align: top;\n",
       "    }\n",
       "\n",
       "    .dataframe thead th {\n",
       "        text-align: right;\n",
       "    }\n",
       "</style>\n",
       "<table border=\"1\" class=\"dataframe\">\n",
       "  <thead>\n",
       "    <tr style=\"text-align: right;\">\n",
       "      <th></th>\n",
       "      <th>Suburb</th>\n",
       "      <th>Address</th>\n",
       "      <th>Rooms</th>\n",
       "      <th>Type</th>\n",
       "      <th>Price</th>\n",
       "      <th>Method</th>\n",
       "      <th>SellerG</th>\n",
       "      <th>Date</th>\n",
       "      <th>Distance</th>\n",
       "      <th>Postcode</th>\n",
       "      <th>...</th>\n",
       "      <th>Bathroom</th>\n",
       "      <th>Car</th>\n",
       "      <th>Landsize</th>\n",
       "      <th>BuildingArea</th>\n",
       "      <th>YearBuilt</th>\n",
       "      <th>CouncilArea</th>\n",
       "      <th>Lattitude</th>\n",
       "      <th>Longtitude</th>\n",
       "      <th>Regionname</th>\n",
       "      <th>Propertycount</th>\n",
       "    </tr>\n",
       "  </thead>\n",
       "  <tbody>\n",
       "    <tr>\n",
       "      <th>29483</th>\n",
       "      <td>Fawkner Lot</td>\n",
       "      <td>1/3 Brian St</td>\n",
       "      <td>3</td>\n",
       "      <td>h</td>\n",
       "      <td>616000.0</td>\n",
       "      <td>SP</td>\n",
       "      <td>Brad</td>\n",
       "      <td>6/01/2018</td>\n",
       "      <td>12.4</td>\n",
       "      <td>NaN</td>\n",
       "      <td>...</td>\n",
       "      <td>NaN</td>\n",
       "      <td>NaN</td>\n",
       "      <td>NaN</td>\n",
       "      <td>NaN</td>\n",
       "      <td>NaN</td>\n",
       "      <td>NaN</td>\n",
       "      <td>NaN</td>\n",
       "      <td>NaN</td>\n",
       "      <td>NaN</td>\n",
       "      <td>NaN</td>\n",
       "    </tr>\n",
       "  </tbody>\n",
       "</table>\n",
       "<p>1 rows × 21 columns</p>\n",
       "</div>"
      ],
      "text/plain": [
       "            Suburb       Address  Rooms Type     Price Method SellerG  \\\n",
       "29483  Fawkner Lot  1/3 Brian St      3    h  616000.0     SP    Brad   \n",
       "\n",
       "            Date  Distance  Postcode  ...  Bathroom  Car  Landsize  \\\n",
       "29483  6/01/2018      12.4       NaN  ...       NaN  NaN       NaN   \n",
       "\n",
       "       BuildingArea  YearBuilt  CouncilArea Lattitude  Longtitude  Regionname  \\\n",
       "29483           NaN        NaN          NaN       NaN         NaN         NaN   \n",
       "\n",
       "      Propertycount  \n",
       "29483           NaN  \n",
       "\n",
       "[1 rows x 21 columns]"
      ]
     },
     "execution_count": 18,
     "metadata": {},
     "output_type": "execute_result"
    }
   ],
   "source": [
    "df_clean[df_clean['Postcode'].isnull()]"
   ]
  },
  {
   "cell_type": "code",
   "execution_count": 19,
   "id": "f7fb4575",
   "metadata": {},
   "outputs": [
    {
     "data": {
      "text/plain": [
       "array([3060.])"
      ]
     },
     "execution_count": 19,
     "metadata": {},
     "output_type": "execute_result"
    }
   ],
   "source": [
    "df_clean[df_clean['Suburb'] == 'Fawkner']['Postcode'].unique()"
   ]
  },
  {
   "cell_type": "code",
   "execution_count": 20,
   "id": "47d54318",
   "metadata": {
    "scrolled": true
   },
   "outputs": [
    {
     "name": "stderr",
     "output_type": "stream",
     "text": [
      "/home/taryll/anaconda3/lib/python3.9/site-packages/pandas/core/indexing.py:1817: SettingWithCopyWarning: \n",
      "A value is trying to be set on a copy of a slice from a DataFrame.\n",
      "Try using .loc[row_indexer,col_indexer] = value instead\n",
      "\n",
      "See the caveats in the documentation: https://pandas.pydata.org/pandas-docs/stable/user_guide/indexing.html#returning-a-view-versus-a-copy\n",
      "  self._setitem_single_column(loc, value, pi)\n"
     ]
    }
   ],
   "source": [
    "idx = df_clean[df_clean['Suburb'] == 'Fawkner Lot'].index.tolist()\n",
    "mode_value = df_clean[df_clean['Suburb'] == 'Fawkner']['Postcode'].mode()\n",
    "\n",
    "df_clean.loc[idx, 'Postcode'] = mode_value[0]"
   ]
  },
  {
   "cell_type": "markdown",
   "id": "6e782d27",
   "metadata": {},
   "source": [
    "Latitude e Longitude tem relação com o bairro ou até mesmo com o endereço, logo irei eliminar as colunas."
   ]
  },
  {
   "cell_type": "code",
   "execution_count": 21,
   "id": "881c7fe5",
   "metadata": {},
   "outputs": [
    {
     "name": "stderr",
     "output_type": "stream",
     "text": [
      "/home/taryll/anaconda3/lib/python3.9/site-packages/pandas/core/frame.py:4906: SettingWithCopyWarning: \n",
      "A value is trying to be set on a copy of a slice from a DataFrame\n",
      "\n",
      "See the caveats in the documentation: https://pandas.pydata.org/pandas-docs/stable/user_guide/indexing.html#returning-a-view-versus-a-copy\n",
      "  return super().drop(\n"
     ]
    }
   ],
   "source": [
    "df_clean.drop(['Lattitude', 'Longtitude'], axis = 1, inplace = True)"
   ]
  },
  {
   "cell_type": "markdown",
   "id": "534b8c55",
   "metadata": {},
   "source": [
    "As outras variáveis irei preencher com média para as variáveis numéricas e valores mais frequentes para as variáveis categóricas. Antes disso, irei lidar com outliers nessas variáveis e remover do nosso dataframe."
   ]
  },
  {
   "cell_type": "code",
   "execution_count": 22,
   "id": "6bd0de68",
   "metadata": {},
   "outputs": [],
   "source": [
    "column_num = ['Bedroom2', 'Bathroom', 'Car', 'Landsize', 'BuildingArea', 'YearBuilt']"
   ]
  },
  {
   "cell_type": "code",
   "execution_count": 23,
   "id": "25bee552",
   "metadata": {},
   "outputs": [],
   "source": [
    "z_scores = stats.zscore(df_clean[column_num],\n",
    "                       nan_policy = 'omit')\n",
    "\n",
    "abs_z_scores = np.abs(z_scores)\n",
    "\n",
    "filtered_entries = (abs_z_scores.fillna(0) < 3).all(axis = 1)\n",
    "\n",
    "df_without_outlier = df_clean[filtered_entries]"
   ]
  },
  {
   "cell_type": "markdown",
   "id": "767a1485",
   "metadata": {},
   "source": [
    "Agora que realizamos o procedimento uma vez, vamos preencher os valores com a média"
   ]
  },
  {
   "cell_type": "code",
   "execution_count": 24,
   "id": "97a124a0",
   "metadata": {
    "scrolled": false
   },
   "outputs": [
    {
     "name": "stderr",
     "output_type": "stream",
     "text": [
      "/home/taryll/anaconda3/lib/python3.9/site-packages/pandas/core/indexing.py:1884: SettingWithCopyWarning: \n",
      "A value is trying to be set on a copy of a slice from a DataFrame.\n",
      "Try using .loc[row_indexer,col_indexer] = value instead\n",
      "\n",
      "See the caveats in the documentation: https://pandas.pydata.org/pandas-docs/stable/user_guide/indexing.html#returning-a-view-versus-a-copy\n",
      "  self._setitem_single_column(loc, val, pi)\n"
     ]
    }
   ],
   "source": [
    "mean_values = df_without_outlier[column_num].mean()\n",
    "df_without_outlier.loc[:, column_num] = df_without_outlier.loc[:, column_num].fillna(mean_values)"
   ]
  },
  {
   "cell_type": "code",
   "execution_count": 25,
   "id": "b88b6028",
   "metadata": {
    "scrolled": false
   },
   "outputs": [],
   "source": [
    "df_clean = df_without_outlier.copy()"
   ]
  },
  {
   "cell_type": "markdown",
   "id": "cab34be8",
   "metadata": {},
   "source": [
    "Para CouncilArea, Regionname e Propertycount, vamos investigar melhor"
   ]
  },
  {
   "cell_type": "code",
   "execution_count": 26,
   "id": "702155e8",
   "metadata": {
    "scrolled": true
   },
   "outputs": [
    {
     "data": {
      "text/html": [
       "<div>\n",
       "<style scoped>\n",
       "    .dataframe tbody tr th:only-of-type {\n",
       "        vertical-align: middle;\n",
       "    }\n",
       "\n",
       "    .dataframe tbody tr th {\n",
       "        vertical-align: top;\n",
       "    }\n",
       "\n",
       "    .dataframe thead th {\n",
       "        text-align: right;\n",
       "    }\n",
       "</style>\n",
       "<table border=\"1\" class=\"dataframe\">\n",
       "  <thead>\n",
       "    <tr style=\"text-align: right;\">\n",
       "      <th></th>\n",
       "      <th>Suburb</th>\n",
       "      <th>Address</th>\n",
       "      <th>Rooms</th>\n",
       "      <th>Type</th>\n",
       "      <th>Price</th>\n",
       "      <th>Method</th>\n",
       "      <th>SellerG</th>\n",
       "      <th>Date</th>\n",
       "      <th>Distance</th>\n",
       "      <th>Postcode</th>\n",
       "      <th>Bedroom2</th>\n",
       "      <th>Bathroom</th>\n",
       "      <th>Car</th>\n",
       "      <th>Landsize</th>\n",
       "      <th>BuildingArea</th>\n",
       "      <th>YearBuilt</th>\n",
       "      <th>CouncilArea</th>\n",
       "      <th>Regionname</th>\n",
       "      <th>Propertycount</th>\n",
       "    </tr>\n",
       "  </thead>\n",
       "  <tbody>\n",
       "    <tr>\n",
       "      <th>18523</th>\n",
       "      <td>Footscray</td>\n",
       "      <td>2/16 Stafford St</td>\n",
       "      <td>2</td>\n",
       "      <td>u</td>\n",
       "      <td>710000.0</td>\n",
       "      <td>S</td>\n",
       "      <td>Jas</td>\n",
       "      <td>15/07/2017</td>\n",
       "      <td>5.1</td>\n",
       "      <td>3011.0</td>\n",
       "      <td>3.001141</td>\n",
       "      <td>1.550566</td>\n",
       "      <td>1.647909</td>\n",
       "      <td>498.994086</td>\n",
       "      <td>146.924069</td>\n",
       "      <td>1966.563627</td>\n",
       "      <td>NaN</td>\n",
       "      <td>NaN</td>\n",
       "      <td>NaN</td>\n",
       "    </tr>\n",
       "    <tr>\n",
       "      <th>26888</th>\n",
       "      <td>Camberwell</td>\n",
       "      <td>2/3 Kingsley St</td>\n",
       "      <td>2</td>\n",
       "      <td>h</td>\n",
       "      <td>825000.0</td>\n",
       "      <td>VB</td>\n",
       "      <td>Jellis</td>\n",
       "      <td>11/11/2017</td>\n",
       "      <td>7.7</td>\n",
       "      <td>3124.0</td>\n",
       "      <td>3.001141</td>\n",
       "      <td>1.550566</td>\n",
       "      <td>1.647909</td>\n",
       "      <td>498.994086</td>\n",
       "      <td>146.924069</td>\n",
       "      <td>1966.563627</td>\n",
       "      <td>NaN</td>\n",
       "      <td>NaN</td>\n",
       "      <td>NaN</td>\n",
       "    </tr>\n",
       "    <tr>\n",
       "      <th>29483</th>\n",
       "      <td>Fawkner Lot</td>\n",
       "      <td>1/3 Brian St</td>\n",
       "      <td>3</td>\n",
       "      <td>h</td>\n",
       "      <td>616000.0</td>\n",
       "      <td>SP</td>\n",
       "      <td>Brad</td>\n",
       "      <td>6/01/2018</td>\n",
       "      <td>12.4</td>\n",
       "      <td>3060.0</td>\n",
       "      <td>3.001141</td>\n",
       "      <td>1.550566</td>\n",
       "      <td>1.647909</td>\n",
       "      <td>498.994086</td>\n",
       "      <td>146.924069</td>\n",
       "      <td>1966.563627</td>\n",
       "      <td>NaN</td>\n",
       "      <td>NaN</td>\n",
       "      <td>NaN</td>\n",
       "    </tr>\n",
       "  </tbody>\n",
       "</table>\n",
       "</div>"
      ],
      "text/plain": [
       "            Suburb           Address  Rooms Type     Price Method SellerG  \\\n",
       "18523    Footscray  2/16 Stafford St      2    u  710000.0      S     Jas   \n",
       "26888   Camberwell   2/3 Kingsley St      2    h  825000.0     VB  Jellis   \n",
       "29483  Fawkner Lot      1/3 Brian St      3    h  616000.0     SP    Brad   \n",
       "\n",
       "             Date  Distance  Postcode  Bedroom2  Bathroom       Car  \\\n",
       "18523  15/07/2017       5.1    3011.0  3.001141  1.550566  1.647909   \n",
       "26888  11/11/2017       7.7    3124.0  3.001141  1.550566  1.647909   \n",
       "29483   6/01/2018      12.4    3060.0  3.001141  1.550566  1.647909   \n",
       "\n",
       "         Landsize  BuildingArea    YearBuilt CouncilArea Regionname  \\\n",
       "18523  498.994086    146.924069  1966.563627         NaN        NaN   \n",
       "26888  498.994086    146.924069  1966.563627         NaN        NaN   \n",
       "29483  498.994086    146.924069  1966.563627         NaN        NaN   \n",
       "\n",
       "       Propertycount  \n",
       "18523            NaN  \n",
       "26888            NaN  \n",
       "29483            NaN  "
      ]
     },
     "execution_count": 26,
     "metadata": {},
     "output_type": "execute_result"
    }
   ],
   "source": [
    "df_clean[df_clean['CouncilArea'].isnull()]"
   ]
  },
  {
   "cell_type": "code",
   "execution_count": 27,
   "id": "ef98b445",
   "metadata": {},
   "outputs": [
    {
     "data": {
      "text/html": [
       "<div>\n",
       "<style scoped>\n",
       "    .dataframe tbody tr th:only-of-type {\n",
       "        vertical-align: middle;\n",
       "    }\n",
       "\n",
       "    .dataframe tbody tr th {\n",
       "        vertical-align: top;\n",
       "    }\n",
       "\n",
       "    .dataframe thead th {\n",
       "        text-align: right;\n",
       "    }\n",
       "</style>\n",
       "<table border=\"1\" class=\"dataframe\">\n",
       "  <thead>\n",
       "    <tr style=\"text-align: right;\">\n",
       "      <th></th>\n",
       "      <th>CouncilArea</th>\n",
       "      <th>Regionname</th>\n",
       "      <th>Propertycount</th>\n",
       "    </tr>\n",
       "  </thead>\n",
       "  <tbody>\n",
       "    <tr>\n",
       "      <th>0</th>\n",
       "      <td>Maribyrnong City Council</td>\n",
       "      <td>Western Metropolitan</td>\n",
       "      <td>7570.0</td>\n",
       "    </tr>\n",
       "  </tbody>\n",
       "</table>\n",
       "</div>"
      ],
      "text/plain": [
       "                CouncilArea            Regionname  Propertycount\n",
       "0  Maribyrnong City Council  Western Metropolitan         7570.0"
      ]
     },
     "execution_count": 27,
     "metadata": {},
     "output_type": "execute_result"
    }
   ],
   "source": [
    "df_clean[df_clean['Suburb'] == 'Footscray'].loc[:, ['CouncilArea', 'Regionname', 'Propertycount']].mode()"
   ]
  },
  {
   "cell_type": "code",
   "execution_count": 28,
   "id": "aa04aeb5",
   "metadata": {},
   "outputs": [
    {
     "data": {
      "text/html": [
       "<div>\n",
       "<style scoped>\n",
       "    .dataframe tbody tr th:only-of-type {\n",
       "        vertical-align: middle;\n",
       "    }\n",
       "\n",
       "    .dataframe tbody tr th {\n",
       "        vertical-align: top;\n",
       "    }\n",
       "\n",
       "    .dataframe thead th {\n",
       "        text-align: right;\n",
       "    }\n",
       "</style>\n",
       "<table border=\"1\" class=\"dataframe\">\n",
       "  <thead>\n",
       "    <tr style=\"text-align: right;\">\n",
       "      <th></th>\n",
       "      <th>CouncilArea</th>\n",
       "      <th>Regionname</th>\n",
       "      <th>Propertycount</th>\n",
       "    </tr>\n",
       "  </thead>\n",
       "  <tbody>\n",
       "    <tr>\n",
       "      <th>0</th>\n",
       "      <td>Boroondara City Council</td>\n",
       "      <td>Southern Metropolitan</td>\n",
       "      <td>8920.0</td>\n",
       "    </tr>\n",
       "  </tbody>\n",
       "</table>\n",
       "</div>"
      ],
      "text/plain": [
       "               CouncilArea             Regionname  Propertycount\n",
       "0  Boroondara City Council  Southern Metropolitan         8920.0"
      ]
     },
     "execution_count": 28,
     "metadata": {},
     "output_type": "execute_result"
    }
   ],
   "source": [
    "df_clean[df_clean['Suburb'] == 'Camberwell'].loc[:, ['CouncilArea', 'Regionname', 'Propertycount']].mode()"
   ]
  },
  {
   "cell_type": "code",
   "execution_count": 29,
   "id": "8f903bd3",
   "metadata": {},
   "outputs": [
    {
     "data": {
      "text/html": [
       "<div>\n",
       "<style scoped>\n",
       "    .dataframe tbody tr th:only-of-type {\n",
       "        vertical-align: middle;\n",
       "    }\n",
       "\n",
       "    .dataframe tbody tr th {\n",
       "        vertical-align: top;\n",
       "    }\n",
       "\n",
       "    .dataframe thead th {\n",
       "        text-align: right;\n",
       "    }\n",
       "</style>\n",
       "<table border=\"1\" class=\"dataframe\">\n",
       "  <thead>\n",
       "    <tr style=\"text-align: right;\">\n",
       "      <th></th>\n",
       "      <th>CouncilArea</th>\n",
       "      <th>Regionname</th>\n",
       "      <th>Propertycount</th>\n",
       "    </tr>\n",
       "  </thead>\n",
       "  <tbody>\n",
       "    <tr>\n",
       "      <th>0</th>\n",
       "      <td>Hume City Council</td>\n",
       "      <td>Northern Metropolitan</td>\n",
       "      <td>5070.0</td>\n",
       "    </tr>\n",
       "  </tbody>\n",
       "</table>\n",
       "</div>"
      ],
      "text/plain": [
       "         CouncilArea             Regionname  Propertycount\n",
       "0  Hume City Council  Northern Metropolitan         5070.0"
      ]
     },
     "execution_count": 29,
     "metadata": {},
     "output_type": "execute_result"
    }
   ],
   "source": [
    "df_clean[df_clean['Suburb'] == 'Fawkner'].loc[:, ['CouncilArea', 'Regionname', 'Propertycount']].mode()"
   ]
  },
  {
   "cell_type": "markdown",
   "id": "5ec473bd",
   "metadata": {},
   "source": [
    "Para todos eles podemos preencher com os valores listados."
   ]
  },
  {
   "cell_type": "code",
   "execution_count": 30,
   "id": "4f956577",
   "metadata": {},
   "outputs": [],
   "source": [
    "df_temp = df_clean[df_clean['CouncilArea'].isnull()]"
   ]
  },
  {
   "cell_type": "code",
   "execution_count": 31,
   "id": "bcf07b94",
   "metadata": {},
   "outputs": [],
   "source": [
    "idx = df_temp[df_temp['Suburb'] == 'Footscray'].index.tolist()\n",
    "most_freq_values = df_clean[df_clean['Suburb'] == 'Footscray'].loc[:, ['CouncilArea', 'Regionname', 'Propertycount']].mode().to_numpy()\n",
    "\n",
    "df_clean.loc[idx, ['CouncilArea', 'Regionname', 'Propertycount']] = most_freq_values[0]"
   ]
  },
  {
   "cell_type": "code",
   "execution_count": 32,
   "id": "bdec2739",
   "metadata": {},
   "outputs": [],
   "source": [
    "idx = df_temp[df_temp['Suburb'] == 'Camberwell'].index.tolist()\n",
    "most_freq_values = df_clean[df_clean['Suburb'] == 'Camberwell'].loc[:, ['CouncilArea', 'Regionname', 'Propertycount']].mode().to_numpy()\n",
    "\n",
    "df_clean.loc[idx, ['CouncilArea', 'Regionname', 'Propertycount']] = most_freq_values[0]"
   ]
  },
  {
   "cell_type": "code",
   "execution_count": 33,
   "id": "1650c1ba",
   "metadata": {},
   "outputs": [],
   "source": [
    "idx = df_temp[df_temp['Suburb'] == 'Fawkner Lot'].index.tolist()\n",
    "most_freq_values = df_clean[df_clean['Suburb'] == 'Fawkner'].loc[:, ['CouncilArea', 'Regionname', 'Propertycount']].mode().to_numpy()\n",
    "\n",
    "df_clean.loc[idx, ['CouncilArea', 'Regionname', 'Propertycount']] = most_freq_values[0]"
   ]
  },
  {
   "cell_type": "code",
   "execution_count": 34,
   "id": "90a66dd5",
   "metadata": {},
   "outputs": [
    {
     "data": {
      "text/plain": [
       "Suburb           0\n",
       "Address          0\n",
       "Rooms            0\n",
       "Type             0\n",
       "Price            0\n",
       "Method           0\n",
       "SellerG          0\n",
       "Date             0\n",
       "Distance         0\n",
       "Postcode         0\n",
       "Bedroom2         0\n",
       "Bathroom         0\n",
       "Car              0\n",
       "Landsize         0\n",
       "BuildingArea     0\n",
       "YearBuilt        0\n",
       "CouncilArea      0\n",
       "Regionname       0\n",
       "Propertycount    0\n",
       "dtype: int64"
      ]
     },
     "execution_count": 34,
     "metadata": {},
     "output_type": "execute_result"
    }
   ],
   "source": [
    "df_clean.isnull().sum()"
   ]
  },
  {
   "cell_type": "code",
   "execution_count": 35,
   "id": "a82a747c",
   "metadata": {},
   "outputs": [],
   "source": [
    "del df_temp, idx"
   ]
  },
  {
   "cell_type": "code",
   "execution_count": 36,
   "id": "8e4c58e7",
   "metadata": {},
   "outputs": [],
   "source": [
    "df_clean.to_csv('../../data/processed/df_clean.csv', index = False)"
   ]
  }
 ],
 "metadata": {
  "kernelspec": {
   "display_name": "Python 3 (ipykernel)",
   "language": "python",
   "name": "python3"
  },
  "language_info": {
   "codemirror_mode": {
    "name": "ipython",
    "version": 3
   },
   "file_extension": ".py",
   "mimetype": "text/x-python",
   "name": "python",
   "nbconvert_exporter": "python",
   "pygments_lexer": "ipython3",
   "version": "3.9.7"
  }
 },
 "nbformat": 4,
 "nbformat_minor": 5
}
